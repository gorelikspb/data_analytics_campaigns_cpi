{
 "cells": [
  {
   "cell_type": "code",
   "execution_count": 1,
   "metadata": {},
   "outputs": [],
   "source": [
    "import pandas as pd\n",
    "#have to save datafiles below to /data directory in script file directory\n",
    "a = pd.read_csv('in_data_a.csv')\n",
    "p = pd.read_csv('in_data_p.csv')\n",
    "\n",
    "#there's os:'server' lines in _a.csv file looks like \"garbage\" \n",
    "#with no installs and doubled 'ad_id' fileds, so i remove the lines\n",
    "a_no_server = a[a['os']!='server']\n",
    "#can check zero influence of the lines to total spend with\n",
    "#a['spend'].sum and a_no_server['spend'] comparsion (it's equal)\n",
    "\n",
    "#formatting _p.csv file before merging \n",
    "p_Date = p.rename (columns={'date':'Date'})\n",
    "p_Date_spend = p_Date[['Date','ad_id','spend']]\n",
    "\n",
    "#merging on unique values\n",
    "ap = pd.merge(a_no_server,p_Date_spend, on=['Date','ad_id']) \n",
    "\n",
    "#sorting as requested\n",
    "ap_sorted =  ap.groupby(['app', 'Date', 'Campaign','os']).sum()\n",
    "\n",
    "#calculating CPI\n",
    "ap_sorted['cpi'] = ap_sorted['spend']/ap_sorted['Installs']\n",
    "\n",
    "#There's some special cases, but no critical errors in jupyter notebook:\n",
    "#1) line with 0 installs, so dividing by zero, going to be \"inf\" in CPI column\n",
    "#2) same with zero spending, so CPI is not defined\n",
    "#i could replace this values with others, also fix formatting with after-comma digits,\n",
    "#but it's just a decoration question, so i leave it as is\n",
    "\n",
    "#dropping unusable columns\n",
    "ap_clear = ap_sorted.drop(['id', 'ad_id'], 1)\n",
    "\n",
    "#Attention! Overwriting previos results\n",
    "ap_clear.to_csv('out.csv')\n"
   ]
  },
  {
   "cell_type": "code",
   "execution_count": 3,
   "metadata": {},
   "outputs": [
    {
     "name": "stdout",
     "output_type": "stream",
     "text": [
      " ’®¬ ў гбва®©бвўҐ C ­Ґ Ё¬ҐҐв ¬ҐвЄЁ.\n",
      " ‘ҐаЁ©­л© ­®¬Ґа в®¬ : FA9D-466B\n",
      "\n",
      " ‘®¤Ґа¦Ё¬®Ґ Ї ЇЄЁ C:\\Users\\AG\\zefir\n",
      "\n",
      "08.07.2020  19:49    <DIR>          .\n",
      "08.07.2020  19:49    <DIR>          ..\n",
      "08.07.2020  19:48    <DIR>          .ipynb_checkpoints\n",
      "08.07.2020  19:49             2я318 campaigns_cpi_sorting.ipynb\n",
      "20.12.2019  00:14         2я604я117 in_data_a.csv\n",
      "20.12.2019  00:12           699я232 in_data_p.csv\n",
      "08.07.2020  19:47            17я721 out.csv\n",
      "               4 д ©«®ў      3я323я388 Ў ©в\n",
      "               3 Ї Ї®Є   5я891я035я136 Ў ©в бў®Ў®¤­®\n"
     ]
    }
   ],
   "source": [
    "!dir\n"
   ]
  }
 ],
 "metadata": {
  "kernelspec": {
   "display_name": "Python 3",
   "language": "python",
   "name": "python3"
  },
  "language_info": {
   "codemirror_mode": {
    "name": "ipython",
    "version": 3
   },
   "file_extension": ".py",
   "mimetype": "text/x-python",
   "name": "python",
   "nbconvert_exporter": "python",
   "pygments_lexer": "ipython3",
   "version": "3.7.6"
  }
 },
 "nbformat": 4,
 "nbformat_minor": 4
}
